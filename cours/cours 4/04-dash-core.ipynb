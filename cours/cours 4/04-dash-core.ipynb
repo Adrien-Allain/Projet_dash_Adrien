{
 "cells": [
  {
   "cell_type": "markdown",
   "metadata": {},
   "source": [
    "## Dash Core\n",
    "\n",
    "Dans ce chapitre nous abordons les composants `Input` de la librairie `dash_core_components`. Ces composants permettent de renseigner des champs de formulaire ou de recuperer des informations renseignées par l'utilisateur."
   ]
  },
  {
   "cell_type": "markdown",
   "metadata": {},
   "source": [
    "### Dropdown\n",
    "\n",
    "Ce composant permet de proposer une liste de choix à l'utilisateur avec la possibilité de faire un choix mutiple."
   ]
  },
  {
   "cell_type": "code",
   "execution_count": null,
   "metadata": {},
   "outputs": [
    {
     "name": "stdout",
     "output_type": "stream",
     "text": [
      "Dash app running on http://127.0.0.1:8050/\n"
     ]
    }
   ],
   "source": [
    "import dash\n",
    "from dash import dcc, html\n",
    "import plotly.graph_objects as go\n",
    "\n",
    "app = dash.Dash()\n",
    "app.layout = html.Div([\n",
    "    html.Label('Sélectionnez votre technologie préférée :'),\n",
    "\n",
    "    dcc.Dropdown(\n",
    "        options=[\n",
    "            {'label': 'Python', 'value': 'py'},\n",
    "            {'label': 'SQL', 'value': 'sql'},\n",
    "            {'label': 'Java', 'value': 'jar'},\n",
    "            {'label': 'R', 'value': 'r'},\n",
    "        ],\n",
    "        value='py',\n",
    "        multi=True,\n",
    "        searchable=True,\n",
    "        placeholder='Choisissez la technologie...',\n",
    "        disabled=False\n",
    "    )\n",
    "])\n",
    "\n",
    "if __name__ == '__main__':\n",
    "    app.run(debug=True, port=8050, jupyter_mode='external')"
   ]
  },
  {
   "cell_type": "markdown",
   "metadata": {},
   "source": [
    "### Slider\n",
    "\n",
    "Ce composant permet de choisir une valeur dans un intervalle."
   ]
  },
  {
   "cell_type": "code",
   "execution_count": null,
   "metadata": {},
   "outputs": [
    {
     "name": "stdout",
     "output_type": "stream",
     "text": [
      "Dash app running on http://127.0.0.1:8050/\n"
     ]
    }
   ],
   "source": [
    "import dash\n",
    "from dash import dcc, html\n",
    "import plotly.graph_objects as go\n",
    "\n",
    "app = dash.Dash()\n",
    "\n",
    "app.layout = html.Div([\n",
    "\n",
    "    html.Label('Slider'),\n",
    "    dcc.Slider(min=0, max=3, step=1),\n",
    "\n",
    "    dcc.Slider(\n",
    "        min=0,\n",
    "        max=3,\n",
    "        step=1,\n",
    "        marks={0: 'Label 0', 1: 'Label 1', 2:' Label 2', 3: 'Label 3'}\n",
    "    ),\n",
    "\n",
    "    html.Label(\"Range slider\"),\n",
    "    dcc.RangeSlider(\n",
    "        min=0,\n",
    "        max=10,\n",
    "        step=1,\n",
    "    ),\n",
    "])\n",
    "\n",
    "if __name__ == '__main__':\n",
    "    app.run(debug=True, port=8050, jupyter_mode='external')"
   ]
  },
  {
   "cell_type": "markdown",
   "metadata": {},
   "source": [
    "### Input et textarea\n",
    "\n",
    "Ce composant permet de rentrer du texte."
   ]
  },
  {
   "cell_type": "code",
   "execution_count": null,
   "metadata": {},
   "outputs": [
    {
     "name": "stdout",
     "output_type": "stream",
     "text": [
      "Dash app running on http://127.0.0.1:8050/\n"
     ]
    }
   ],
   "source": [
    "import dash\n",
    "from dash import dcc, html\n",
    "import plotly.graph_objects as go\n",
    "\n",
    "app = dash.Dash()\n",
    "\n",
    "app.layout = html.Div([ \n",
    "    html.Div([\n",
    "        html.H1(\"Input\"),\n",
    "        dcc.Input( type='text', placeholder='Entrez du texte...' ),\n",
    "        dcc.Input( type='number', placeholder='Entrez un nombre...'),\n",
    "        dcc.Input( type='password', placeholder='Entrez un mot de passe...'  ),\n",
    "        dcc.Input( type='email', placeholder='Entrez un mail...' ),\n",
    "    ]),\n",
    "\n",
    "    html.Div([\n",
    "        html.H1(\"Textarea\"),\n",
    "        dcc.Textarea(\n",
    "            placeholder='Entrez une valeur',\n",
    "            style={'width': '100%'},\n",
    "            value=''\n",
    "        ),\n",
    "        dcc.Textarea(\n",
    "            placeholder='Entrez une valeur',\n",
    "            style={'width': '60%'}\n",
    "        ),\n",
    "    ])\n",
    "])\n",
    "\n",
    "if __name__ == '__main__':\n",
    "    app.run(debug=True, port=8050, jupyter_mode='external')"
   ]
  },
  {
   "cell_type": "markdown",
   "metadata": {},
   "source": [
    "### Checklist et RadioItems\n",
    "\n",
    "Ce composant permet de faire des choix multiples."
   ]
  },
  {
   "cell_type": "code",
   "execution_count": 6,
   "metadata": {},
   "outputs": [
    {
     "name": "stdout",
     "output_type": "stream",
     "text": [
      "Dash app running on http://127.0.0.1:8050/\n"
     ]
    }
   ],
   "source": [
    "import dash\n",
    "from dash import dcc, html\n",
    "import plotly.graph_objects as go\n",
    "\n",
    "app = dash.Dash()\n",
    "\n",
    "app.layout = html.Div([ \n",
    "    dcc.Checklist(\n",
    "        options=[\n",
    "            {'label': 'Python', 'value': 'py'},\n",
    "            {'label': 'SQL', 'value': 'sql'},\n",
    "            {'label': 'Java', 'value': 'jar', 'disabled': True}\n",
    "        ],\n",
    "        value=['py', 'sql']\n",
    "    ),\n",
    "    dcc.RadioItems(\n",
    "        options=[\n",
    "            {'label': 'Python', 'value': 'py'},\n",
    "            {'label': 'SQL', 'value': 'sql'},\n",
    "            {'label': 'Java', 'value': 'jar', 'disabled': True}\n",
    "        ],\n",
    "        value='py',\n",
    "        labelStyle={'display': 'inline-block'}\n",
    "    ),\n",
    "\n",
    "    html.Button('Sauvegarder'),\n",
    "    html.Button('Sauvegarder', disabled=True),\n",
    "    html.Button('Sauvegarder', type='submit'),\n",
    "])\n",
    "\n",
    "if __name__ == '__main__':\n",
    "    app.run(debug=True, port=8050, jupyter_mode='external')"
   ]
  },
  {
   "cell_type": "markdown",
   "metadata": {},
   "source": [
    "### Bouton\n",
    "\n",
    "Ce composant permet de d'activer une action"
   ]
  },
  {
   "cell_type": "code",
   "execution_count": null,
   "metadata": {},
   "outputs": [],
   "source": [
    "import dash\n",
    "from dash import dcc, html\n",
    "import plotly.graph_objects as go\n",
    "\n",
    "app = dash.Dash()\n",
    "\n",
    "app.layout = html.Div([\n",
    "    html.Button('Sauvegarder'),\n",
    "    html.Button('Sauvegarder', disabled=True),\n",
    "    html.Button('Sauvegarder', type='submit'),\n",
    "])\n",
    "\n",
    "if __name__ == '__main__':\n",
    "    app.run(debug=True, port=8050, jupyter_mode='external')"
   ]
  },
  {
   "cell_type": "markdown",
   "metadata": {},
   "source": [
    "### Date picker\n",
    "\n",
    "Ce composant permet de selectionner une date ou un intervalle"
   ]
  },
  {
   "cell_type": "code",
   "execution_count": 7,
   "metadata": {},
   "outputs": [
    {
     "name": "stdout",
     "output_type": "stream",
     "text": [
      "Dash app running on http://127.0.0.1:8050/\n"
     ]
    }
   ],
   "source": [
    "import dash\n",
    "from dash import dcc, html\n",
    "from datetime import datetime as dt\n",
    "\n",
    "app = dash.Dash()\n",
    "\n",
    "app.layout = html.Div([\n",
    "    \n",
    "    html.H3(\"Simple date\"),\n",
    "    dcc.DatePickerSingle(\n",
    "        date=dt(2019, 1, 1)\n",
    "    ),\n",
    "    dcc.DatePickerSingle(\n",
    "        date=dt(2019, 1, 1),\n",
    "        display_format='YYYY-MM-DD'\n",
    "    ),\n",
    "\n",
    "    html.H3(\"Plage de dates\"),\n",
    "    dcc.DatePickerRange(\n",
    "        start_date=dt(2019, 9, 1),\n",
    "        end_date=dt(2019, 10, 31)\n",
    "    )\n",
    "])\n",
    "\n",
    "if __name__ == '__main__':\n",
    "    app.run(debug=True, port=8050, jupyter_mode='external')"
   ]
  },
  {
   "cell_type": "markdown",
   "metadata": {},
   "source": [
    "### Graph\n",
    "\n",
    "Ce composant permet de tracer/afficher des graphiques"
   ]
  },
  {
   "cell_type": "code",
   "execution_count": null,
   "metadata": {},
   "outputs": [
    {
     "name": "stdout",
     "output_type": "stream",
     "text": [
      "Dash app running on http://127.0.0.1:8050/\n"
     ]
    }
   ],
   "source": [
    "import dash\n",
    "from dash import dcc, html\n",
    "import plotly.graph_objects as go\n",
    "\n",
    "app = dash.Dash()\n",
    "\n",
    "app.layout = html.Div([\n",
    "html.H3('Hello World - comparaison'),\n",
    "    dcc.Graph(\n",
    "        figure=go.Figure(\n",
    "            data=[\n",
    "                go.Bar( \n",
    "                    x=[2017, 2018, 2019], \n",
    "                    y=[219, 146, 167], \n",
    "                    name='Vente USA',\n",
    "                    marker=go.bar.Marker( color='rgb(55, 83, 109)' )\n",
    "                ),\n",
    "                go.Bar(\n",
    "                    x=[2017, 2018, 2019], \n",
    "                    y=[230, 180, 260], \n",
    "                    name='Vente Europa',\n",
    "                    marker=go.bar.Marker( color='rgb(26, 118, 255)' )\n",
    "                )\n",
    "            ],\n",
    "            layout=go.Layout( title='Vente', showlegend=True )\n",
    "        )\n",
    "    )\n",
    "])\n",
    "\n",
    "if __name__ == '__main__':\n",
    "    app.run(debug=True, port=8050, jupyter_mode='external')"
   ]
  },
  {
   "cell_type": "markdown",
   "metadata": {},
   "source": [
    "### Tabs\n",
    "\n",
    "Ce composant permet de grouper les composants dans des onglets"
   ]
  },
  {
   "cell_type": "code",
   "execution_count": 9,
   "metadata": {},
   "outputs": [
    {
     "name": "stdout",
     "output_type": "stream",
     "text": [
      "Dash app running on http://127.0.0.1:8050/\n"
     ]
    }
   ],
   "source": [
    "import dash\n",
    "from dash import dcc, html\n",
    "\n",
    "app = dash.Dash()\n",
    "\n",
    "app.layout = html.Div([\n",
    "\n",
    "    html.H3('Hello World - comparaison'),\n",
    "\n",
    "    dcc.Tabs(children=[\n",
    "        dcc.Tab( label='Python', children=[\n",
    "                dcc.Markdown(\n",
    "                    \"\"\"\n",
    "                    ```python\n",
    "                    print('Hello World')\n",
    "                    ```\n",
    "                    \"\"\"\n",
    "                )\n",
    "        ]),\n",
    "        dcc.Tab( label='Typescript', children=[\n",
    "                dcc.Markdown(\n",
    "                    \"\"\"\n",
    "                    ```ts\n",
    "                    console.log('Hello World')\n",
    "                    ```\n",
    "                    \"\"\"\n",
    "                )\n",
    "            ])\n",
    "    ])\n",
    "])\n",
    "\n",
    "if __name__ == '__main__':\n",
    "    app.run(debug=True, port=8050, jupyter_mode='external')"
   ]
  },
  {
   "cell_type": "markdown",
   "metadata": {},
   "source": [
    "### Upload file\n",
    "\n",
    "Ce composant permet de charger un fichier"
   ]
  },
  {
   "cell_type": "code",
   "execution_count": null,
   "metadata": {},
   "outputs": [
    {
     "name": "stdout",
     "output_type": "stream",
     "text": [
      "Dash app running on http://127.0.0.1:8050/\n"
     ]
    }
   ],
   "source": [
    "import dash\n",
    "from dash import dcc, html\n",
    "\n",
    "app = dash.Dash()\n",
    "\n",
    "app.layout = html.Div([\n",
    "    dcc.Upload(html.Button('Upload File')),\n",
    "    html.Hr(),\n",
    "\n",
    "    dcc.Upload(html.A('Upload File'), accept='text/*'), # liste des mimetypes : https://mimetype.io/all-types\n",
    "    html.Hr(),\n",
    "\n",
    "    dcc.Upload([\n",
    "        'Drag and drop or ',\n",
    "        html.A('Select a File')\n",
    "    ], style={\n",
    "        'width': '100%',\n",
    "        'height': '60px',\n",
    "        'textAlign': 'center',\n",
    "        'borderWidth': '1px',\n",
    "        'borderStyle': 'dashed',\n",
    "        'borderRadius': '5px',\n",
    "        'lineHeight': '60px'\n",
    "    })\n",
    "])\n",
    "\n",
    "if __name__ == '__main__':\n",
    "    app.run(debug=True,  port=8050, jupyter_mode='external')"
   ]
  },
  {
   "cell_type": "markdown",
   "metadata": {},
   "source": [
    "### Exercice :\n",
    "\n",
    "Créez une application dash avec un un formulaire demandant à l'utilisateur son nom et prénom, adresse e-mail, date de naissance et la liste de ses loisirs (à choisir dans la liste ci-dessous).\n",
    "\n",
    "Liste loisirs\n",
    "- Musique\n",
    "- Faire du vélo\n",
    "- Cinéma\n",
    "- Promenade\n",
    "- Sport\n",
    "- Autre"
   ]
  }
 ],
 "metadata": {
  "kernelspec": {
   "display_name": "dash-env",
   "language": "python",
   "name": "python3"
  },
  "language_info": {
   "codemirror_mode": {
    "name": "ipython",
    "version": 3
   },
   "file_extension": ".py",
   "mimetype": "text/x-python",
   "name": "python",
   "nbconvert_exporter": "python",
   "pygments_lexer": "ipython3",
   "version": "3.9.21"
  }
 },
 "nbformat": 4,
 "nbformat_minor": 2
}
