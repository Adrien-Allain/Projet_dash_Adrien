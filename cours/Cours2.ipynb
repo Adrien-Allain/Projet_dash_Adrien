{
 "cells": [
  {
   "cell_type": "code",
   "execution_count": 1,
   "metadata": {},
   "outputs": [],
   "source": [
    "import dash\n",
    "\n",
    "from dash import html, dcc, Input, Output, callback\n",
    "\n",
    "import plotly.graph_objects as go\n",
    "\n",
    "import pandas_datareader.data as web #for financial data\n",
    "\n",
    "import dash_bootstrap_components as dbc\n"
   ]
  },
  {
   "cell_type": "code",
   "execution_count": 2,
   "metadata": {},
   "outputs": [
    {
     "name": "stdout",
     "output_type": "stream",
     "text": [
      "Dash app running on http://127.0.0.1:8051/\n"
     ]
    }
   ],
   "source": [
    "#Table html Cotation boursière Amazon\n",
    "\n",
    "app = dash.Dash()\n",
    "\n",
    "df = web.DataReader(name =\"AMZN\", data_source='stooq')\n",
    "df.reset_index(inplace = True)\n",
    "df  = df[:30]\n",
    "min_val = min(len(df), 30)\n",
    "\n",
    "app.layout= html.Div([\n",
    "    html.H4(\"Cotations boursière Amazon\"),\n",
    "    #Création du tableau html\n",
    "    html.Table([\n",
    "        html.Tr([html.Th(col) for col in df.columns])]+ #Première ligne = nom des colonnes\n",
    "               [html.Tr([html.Td(df.iloc[i][col]) for col in df.columns]) for i in range(min_val)] \n",
    "                 #df.iloc[i][col] pour chaque colonne du df on récupère la valeur de la cellule \n",
    "                 # pour chaque ligne allant de 0 à min_val\n",
    "                )\n",
    "])\n",
    "if __name__=='__main__':\n",
    "    app.run(debug = False, port=8051, jupyter_mode=\"external\")"
   ]
  },
  {
   "cell_type": "code",
   "execution_count": 12,
   "metadata": {},
   "outputs": [
    {
     "name": "stdout",
     "output_type": "stream",
     "text": [
      "Dash app running on http://127.0.0.1:8052/\n"
     ]
    }
   ],
   "source": [
    "#Maquette \n",
    "import dash_bootstrap_components as dbc\n",
    "\n",
    "app = dash.Dash(external_stylesheets = [dbc.themes.BOOTSTRAP])\n",
    "\n",
    "app.layout = dbc.Container([\n",
    "    dbc.Row([\n",
    "        dbc.Col(children=\"Col1 de taille 6 : Nom de l'entreprise\", md=6, style = {\"border\" : \"solid\", \"height\": \"100px\"}),\n",
    "        dbc.Col(children=\"Col2 de taille 6 : Barre de recherche\", md=6, style = {\"border\" : \"solid\"}), \n",
    "    ]),\n",
    "    \n",
    "\n",
    "    dbc.Row([\n",
    "        dbc.Col(children=\"Col1 de taille 2\", width = 2, style = {\"border\" : \"solid\", \"height\": \"200px\"}),\n",
    "        dbc.Col(children=\"Col2 de taille 2\", width = 2, style = {\"border\" : \"solid\", \"height\": \"200px\"}),\n",
    "        dbc.Col(children=\"Col2 de taille 8\", width = 8, style = {\"border\" : \"solid\", \"height\": \"350px\"}),\n",
    "        dbc.Col([graph], width = 4, style = {\"border\" : \"solid\", \"height\": \"350px\"}),\n",
    "        dbc.Col([graph], width = 8, style = {\"border\" : \"solid\"}),\n",
    "\n",
    "    ]),\n",
    "], fluid = True)\n",
    "\n",
    "if __name__=='__main__':\n",
    "    app.run(debug = False, port=8052, jupyter_mode=\"external\")"
   ]
  },
  {
   "cell_type": "code",
   "execution_count": 2,
   "metadata": {},
   "outputs": [
    {
     "name": "stdout",
     "output_type": "stream",
     "text": [
      "Dash app running on http://127.0.0.1:8053/\n"
     ]
    }
   ],
   "source": [
    "app = dash.Dash(external_stylesheets = [dbc.themes.BOOTSTRAP])\n",
    "\n",
    "graph = dcc.Graph(figure = {\n",
    "    \"data\": [\n",
    "        {\"x\": [1,2,3], \"y\":[4,1,2], \"type\": \"bar\", \"name\":\"SF\"},\n",
    "        {\"x\": [1,2,3], \"y\":[2,4,5], \"type\": \"bar\", \"name\":\"MTL\"},\n",
    "    ],\n",
    "    \"layout\": {\"title\": \"Dash viz\"},\n",
    "}, responsive = True, className = 'h-100')\n",
    "    \n",
    "app.layout = dbc.Container([\n",
    "    dbc.Row ([\n",
    "        dbc.Col(html.Div(\"stuff\", className=\"bg-secondary h-100\"), width=2),\n",
    "        dbc.Col([\n",
    "            dbc.Row([dbc.Col([graph])]),\n",
    "            dbc.Row([dbc.Col([graph])])\n",
    "        ], width = 5),\n",
    "        dbc.Col([\n",
    "            dbc.Row([dbc.Col([graph])], className=\"h-100\"),\n",
    "        ], width=5),\n",
    "        ])     \n",
    "    ], fluid= True)\n",
    "    \n",
    "if __name__=='__main__':\n",
    "    app.run(debug = False, port=8053, jupyter_mode=\"external\")"
   ]
  }
 ],
 "metadata": {
  "kernelspec": {
   "display_name": "dash-env",
   "language": "python",
   "name": "python3"
  },
  "language_info": {
   "codemirror_mode": {
    "name": "ipython",
    "version": 3
   },
   "file_extension": ".py",
   "mimetype": "text/x-python",
   "name": "python",
   "nbconvert_exporter": "python",
   "pygments_lexer": "ipython3",
   "version": "3.9.21"
  }
 },
 "nbformat": 4,
 "nbformat_minor": 2
}
