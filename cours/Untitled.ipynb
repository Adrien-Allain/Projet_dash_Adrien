{
 "cells": [
  {
   "cell_type": "code",
   "execution_count": 8,
   "id": "912fdbc1-f0bd-4cec-a8e8-7cd9aa3ccf0b",
   "metadata": {},
   "outputs": [
    {
     "name": "stdout",
     "output_type": "stream",
     "text": [
      "Dash app running on http://127.0.0.1:8050/\n"
     ]
    }
   ],
   "source": [
    "#======== Import librairies ========#\n",
    "\n",
    "import dash\n",
    "\n",
    "from dash import html, dcc, Input, Output, callback\n",
    "\n",
    "\n",
    "app = dash.Dash()\n",
    "\n",
    "#======== Layout ========#\n",
    "\n",
    "app.layout = html.Div(children=[\n",
    "                      html.H2(children='Hello Dash !'),\n",
    "    dcc.Input(id = \"input-1\", value = \"\", type = \"text\"),\n",
    "    html.Div(id = \"div-1\", children = \"\")\n",
    "                              ]\n",
    "                     )\n",
    "\n",
    "#======== Callback ========#\n",
    "\n",
    "@callback(\n",
    "    Output(component_id=\"div-1\", component_property=\"children\"),\n",
    "    [Input(component_id=\"input-1\", component_property=\"value\")]\n",
    ")\n",
    "def update_div(input):                #A chaque modif du input, update_div est modifié \n",
    "    return f'Texte introduit: {input}'\n",
    "\n",
    "\n",
    "#======== Run server ========#\n",
    "\n",
    "if __name__=='__main__':\n",
    "    app.run(debug = False, port=8050, jupyter_mode=\"external\")\n",
    "\n",
    "    "
   ]
  },
  {
   "cell_type": "markdown",
   "id": "cfc97300",
   "metadata": {},
   "source": [
    "<!DOCTYPE html>\n",
    "<html lang=\"en\">\n",
    "    <head>\n",
    "        <meta cherset = \"UTF-8\">\n",
    "        <title> Titre onglet </title>\n",
    "    </head>\n",
    "    <body>\n",
    "        <h1> Titre niveau 1 </h1>\n",
    "        <h2> Titre niveau 2 </h2>\n",
    "        <h3> Titre niveau 3 </h3>\n",
    "        <h3> Liste numérotée : <h3>\n",
    "        <p> Paragraphe </p>\n",
    "        <ol>\n",
    "                <li>python</li>\n",
    "                <li>linux</li>\n",
    "                <li>pycharm</li>\n",
    "        </ol>\n",
    "        <h3> Puces classiques : </h3>\n",
    "        <ul>\n",
    "            <li>python</li>\n",
    "            <li>linux</li>\n",
    "        <ul>\n",
    "        <a href=\"https://www.crous-nantes.fr/restaurant/resto-u-le-tertre/\"> Menu crous </a>\n",
    "        <img src = \"https://www.crous-nantes.fr/wp-content/themes/crous/img/logo-lesCrous-et-Republique-70-ligne.png\" width=\"150\" alt=\"Crous logo\" >\n",
    "        <h3>Table </h3>\n",
    "        <br>\n",
    "        <Table border=\"h1\">\n",
    "            <thead>\n",
    "            <th>UserID</th>\n",
    "            <th>Rating</h>\n",
    "            <th>Ages</th>\n",
    "            </thead>\n",
    "            <tr>\n",
    "                <td>001</td>\n",
    "                <td>4.5</td>\n",
    "                <td>25</td>\n",
    "            </tr>   \n",
    "            <tr>\n",
    "                <td>002</td>\n",
    "                <td>5</td>\n",
    "                <td>30</td>\n",
    "            </tr>  \n",
    "            </table>        \n",
    "        <h3>Formulaire </h3>\n",
    "            <form>\n",
    "            <h3>Exemple de formulaire :</h3>\n",
    "            <input id = \"name\" type = \"text\" placeholder=\"Nom et prénom\"> Nom et prénom <br> <br>\n",
    "            <input type = \"email\" value =\"mail@exemple.com\"> Email <br> <br>\n",
    "            <input id = \"ordi\" type = \"text\" placeholder=\"Nom et prénom\"> Nom et prénom <br> <br>\n",
    "            </form>    \n",
    "    </body>\n",
    "</html>"
   ]
  }
 ],
 "metadata": {
  "kernelspec": {
   "display_name": "dash-env",
   "language": "python",
   "name": "python3"
  },
  "language_info": {
   "codemirror_mode": {
    "name": "ipython",
    "version": 3
   },
   "file_extension": ".py",
   "mimetype": "text/x-python",
   "name": "python",
   "nbconvert_exporter": "python",
   "pygments_lexer": "ipython3",
   "version": "3.9.21"
  }
 },
 "nbformat": 4,
 "nbformat_minor": 5
}
